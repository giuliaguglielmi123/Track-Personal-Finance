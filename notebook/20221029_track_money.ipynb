{
 "cells": [
  {
   "cell_type": "markdown",
   "metadata": {},
   "source": [
    "### Upload Packages"
   ]
  },
  {
   "cell_type": "code",
   "execution_count": 53,
   "metadata": {},
   "outputs": [],
   "source": [
    "import pandas as pd\n",
    "from utils.preprocessed import clean_df"
   ]
  },
  {
   "cell_type": "code",
   "execution_count": 54,
   "metadata": {},
   "outputs": [],
   "source": [
    "import datetime\n",
    "import xlrd\n",
    "import re # to assign category\n",
    "import numpy as np # required for PBI\n",
    "import matplotlib # required for PBI\n",
    "import os"
   ]
  },
  {
   "cell_type": "markdown",
   "metadata": {},
   "source": [
    "### l) Upload data"
   ]
  },
  {
   "cell_type": "code",
   "execution_count": 55,
   "metadata": {},
   "outputs": [],
   "source": [
    "path_root = \"C:/Users/ggugl/Desktop/Giulia/Projects/Track-Personal-Finance/\"\n",
    "path_data = path_root + \"data\"\n",
    "path_cc = path_data + \"/raw/carta_di_credito/2022\"\n",
    "path_cd = path_data + \"/raw/bancomat/2022\"\n",
    "path_b = path_data + \"/raw/bonifici/2022\""
   ]
  },
  {
   "cell_type": "code",
   "execution_count": 56,
   "metadata": {},
   "outputs": [],
   "source": [
    "#####_______ list of excel files _______#####\n",
    "list_files_cc = os.listdir(path_cc)\n",
    "list_files_b = os.listdir(path_b)\n",
    "list_files_cd = os.listdir(path_cd)"
   ]
  },
  {
   "cell_type": "code",
   "execution_count": 57,
   "metadata": {},
   "outputs": [
    {
     "name": "stderr",
     "output_type": "stream",
     "text": [
      "C:\\Users\\ggugl\\AppData\\Local\\Temp\\ipykernel_8748\\962769911.py:11: FutureWarning: The frame.append method is deprecated and will be removed from pandas in a future version. Use pandas.concat instead.\n",
      "  df_list_1 = df_list_1.append(data)\n",
      "C:\\Users\\ggugl\\AppData\\Local\\Temp\\ipykernel_8748\\962769911.py:11: FutureWarning: The frame.append method is deprecated and will be removed from pandas in a future version. Use pandas.concat instead.\n",
      "  df_list_1 = df_list_1.append(data)\n",
      "C:\\Users\\ggugl\\AppData\\Local\\Temp\\ipykernel_8748\\962769911.py:11: FutureWarning: The frame.append method is deprecated and will be removed from pandas in a future version. Use pandas.concat instead.\n",
      "  df_list_1 = df_list_1.append(data)\n",
      "C:\\Users\\ggugl\\AppData\\Local\\Temp\\ipykernel_8748\\962769911.py:11: FutureWarning: The frame.append method is deprecated and will be removed from pandas in a future version. Use pandas.concat instead.\n",
      "  df_list_1 = df_list_1.append(data)\n",
      "C:\\Users\\ggugl\\AppData\\Local\\Temp\\ipykernel_8748\\962769911.py:11: FutureWarning: The frame.append method is deprecated and will be removed from pandas in a future version. Use pandas.concat instead.\n",
      "  df_list_1 = df_list_1.append(data)\n",
      "C:\\Users\\ggugl\\AppData\\Local\\Temp\\ipykernel_8748\\962769911.py:11: FutureWarning: The frame.append method is deprecated and will be removed from pandas in a future version. Use pandas.concat instead.\n",
      "  df_list_1 = df_list_1.append(data)\n",
      "C:\\Users\\ggugl\\AppData\\Local\\Temp\\ipykernel_8748\\962769911.py:11: FutureWarning: The frame.append method is deprecated and will be removed from pandas in a future version. Use pandas.concat instead.\n",
      "  df_list_1 = df_list_1.append(data)\n",
      "C:\\Users\\ggugl\\AppData\\Local\\Temp\\ipykernel_8748\\962769911.py:11: FutureWarning: The frame.append method is deprecated and will be removed from pandas in a future version. Use pandas.concat instead.\n",
      "  df_list_1 = df_list_1.append(data)\n",
      "C:\\Users\\ggugl\\AppData\\Local\\Temp\\ipykernel_8748\\962769911.py:11: FutureWarning: The frame.append method is deprecated and will be removed from pandas in a future version. Use pandas.concat instead.\n",
      "  df_list_1 = df_list_1.append(data)\n",
      "C:\\Users\\ggugl\\AppData\\Local\\Temp\\ipykernel_8748\\962769911.py:11: FutureWarning: The frame.append method is deprecated and will be removed from pandas in a future version. Use pandas.concat instead.\n",
      "  df_list_1 = df_list_1.append(data)\n",
      "C:\\Users\\ggugl\\AppData\\Local\\Temp\\ipykernel_8748\\962769911.py:28: FutureWarning: The frame.append method is deprecated and will be removed from pandas in a future version. Use pandas.concat instead.\n",
      "  df_list_2 = df_list_2.append(data)\n",
      "C:\\Users\\ggugl\\AppData\\Local\\Temp\\ipykernel_8748\\962769911.py:44: FutureWarning: The frame.append method is deprecated and will be removed from pandas in a future version. Use pandas.concat instead.\n",
      "  df_list_3 = df_list_3.append(data)\n"
     ]
    }
   ],
   "source": [
    "#####_______ Loop over list of files to append to empty dataframe  _______#####\n",
    "\n",
    "\"\"\"Initialize empty file\"\"\"\n",
    "df_list_1 = pd.DataFrame()\n",
    "\n",
    "\"\"\"\" Start Loop \"\"\"\n",
    "\n",
    "for f in list_files_cc:\n",
    "    single_excel = path_cc + \"/\" + f\n",
    "    data = pd.read_excel(single_excel)\n",
    "    df_list_1 = df_list_1.append(data)\n",
    "\n",
    "\"\"\"\" End Loop \"\"\"\n",
    "\n",
    "\n",
    "# Negative values as \"earnings\"\n",
    "df_list_1 = df_list_1[[\"Data operazione\", \"Descrizione operazione\", \"Importo in euro\"]]\n",
    "df_list_1[\"type\"] = df_list_1[\"Importo in euro\"].apply(lambda x: \"earnings\" if x < 0 else \"expenditures\")\n",
    "\n",
    "\"\"\"Initialize empty file\"\"\"\n",
    "df_list_2 = pd.DataFrame()\n",
    "\n",
    "\"\"\"\" Start Loop \"\"\"\n",
    "\n",
    "for f in list_files_b:\n",
    "    single_excel = path_b + \"/\" + f\n",
    "    data = pd.read_excel(single_excel)\n",
    "    df_list_2 = df_list_2.append(data)\n",
    "\n",
    "\"\"\"\" End Loop \"\"\"\n",
    "\n",
    "# Positive values as \"earnings\"\n",
    "df_list_2 = df_list_2.rename(columns={\"Data contabile\": \"Data operazione\", \"Importo\": \"Importo in euro\"})\n",
    "df_list_2 = df_list_2[[\"Data operazione\", \"Descrizione operazione\", \"Importo in euro\"]]\n",
    "df_list_2[\"type\"] = df_list_2[\"Importo in euro\"].apply(lambda x: \"earnings\" if x > 0 else \"expenditures\")\n",
    "\n",
    "\"\"\"Initialize empty file\"\"\"\n",
    "df_list_3 = pd.DataFrame()\n",
    "\n",
    "\"\"\"\" Start Loop \"\"\"\n",
    "for f in list_files_cd:\n",
    "    single_excel = path_cd + \"/\" + f\n",
    "    data = pd.read_excel(single_excel)\n",
    "    df_list_3 = df_list_3.append(data)\n",
    "\n",
    "\"\"\"\" End Loop \"\"\"\n",
    "\n",
    "\n",
    "# Negative values as \"earnings\"\n",
    "df_list_3 = df_list_3.rename(columns={\"Data contabile\": \"Data operazione\", \"Descrizione\": \"Descrizione operazione\", \"Importo\": \"Importo in euro\"})\n",
    "df_list_3 = df_list_3[[\"Data operazione\", \"Descrizione operazione\", \"Importo in euro\"]]\n",
    "df_list_3[\"type\"] = df_list_3[\"Importo in euro\"].apply(lambda x: \"earnings\" if x < 0 else \"expenditures\")\n"
   ]
  },
  {
   "cell_type": "code",
   "execution_count": 58,
   "metadata": {},
   "outputs": [
    {
     "name": "stderr",
     "output_type": "stream",
     "text": [
      "C:\\Users\\ggugl\\AppData\\Local\\Temp\\ipykernel_8748\\310047863.py:2: FutureWarning: The frame.append method is deprecated and will be removed from pandas in a future version. Use pandas.concat instead.\n",
      "  df_list = df_list_1.append(df_list_2)\n",
      "C:\\Users\\ggugl\\AppData\\Local\\Temp\\ipykernel_8748\\310047863.py:3: FutureWarning: The frame.append method is deprecated and will be removed from pandas in a future version. Use pandas.concat instead.\n",
      "  df_list = df_list.append(df_list_3)\n"
     ]
    }
   ],
   "source": [
    "# Append the above dataframes \n",
    "df_list = df_list_1.append(df_list_2)\n",
    "df_list = df_list.append(df_list_3)"
   ]
  },
  {
   "cell_type": "markdown",
   "metadata": {},
   "source": [
    "# clean tables and select interest columns"
   ]
  },
  {
   "cell_type": "code",
   "execution_count": 59,
   "metadata": {},
   "outputs": [],
   "source": [
    "# Delete Rows if they are not datetime \n",
    "df_list[\"Data operazione\"] = pd.to_datetime(df_list[\"Data operazione\"], errors=\"coerce\").dt.date\n",
    "df_list = df_list.dropna(subset=[\"Data operazione\"])\n",
    "df_list = clean_df(df_list)"
   ]
  },
  {
   "cell_type": "code",
   "execution_count": 60,
   "metadata": {},
   "outputs": [
    {
     "name": "stderr",
     "output_type": "stream",
     "text": [
      "C:\\Users\\ggugl\\AppData\\Local\\Temp\\ipykernel_8748\\4205764016.py:7: FutureWarning: The default value of regex will change from True to False in a future version.\n",
      "  df_list[\"descrizione_operazione\"] = df_list[\"descrizione_operazione\"].str.replace('\\d+|eur|,', '')\n"
     ]
    }
   ],
   "source": [
    "# Select interested columns\n",
    "df_list = df_list[[\"data_operazione\", \"descrizione_operazione\", \"importo_in_euro\", \"type\"]]\n",
    "# Extract Year and Month from the transaction Data\n",
    "df_list[\"year\"] = pd.DatetimeIndex(df_list[\"data_operazione\"]).year\n",
    "df_list[\"month\"] = pd.DatetimeIndex(df_list[\"data_operazione\"]).month\n",
    "# Remove digit as there is a column Amount\n",
    "df_list[\"descrizione_operazione\"] = df_list[\"descrizione_operazione\"].str.replace('\\d+|eur|,', '')\n",
    "df_list = df_list.reset_index(drop=True)"
   ]
  },
  {
   "cell_type": "markdown",
   "metadata": {},
   "source": [
    "### ll) Categories Column"
   ]
  },
  {
   "cell_type": "code",
   "execution_count": 61,
   "metadata": {},
   "outputs": [],
   "source": [
    "# create a dictionary of mappings\n",
    "dataset = df_list\n",
    "mapping = {\"ristorante|pizza|bistrot|geco|moku\"                    : \"pranzo o cena fuori\", \n",
    "           \"farmacia|farmacie\"                                     : \"farmacia\",\n",
    "           \"supermercato|supermarket|supermercati|market|pescheria\": \"spesa supermercato\",\n",
    "           \"italki|verbling\"                                       : \"lezioni di inglese\",\n",
    "           \"amazon|amz\"                                            : \"amazon\",\n",
    "           \"edreams|ryanair\"                                       : \"voli\",\n",
    "           \"caffetteria|starbucks|bar\"                             : \"bar\",\n",
    "           \"protiviti|iqera\"                                       : \"stipendio\",\n",
    "           \"enjoy\"                                                 : \"carsharing\",\n",
    "           \"netflix\"                                               : \"netflix\",\n",
    "           \"prelievo|prelievi\"                                     : \"prelievo\",\n",
    "           \"calzature|conbipel|nuna lie|tezenis|zuiki|decathlon\"   : \"shopping\",\n",
    "           \"hotel\"                                                 : \"hotel\",\n",
    "           \"telecomital\"                                           : \"ricarica telefono\"}\n"
   ]
  },
  {
   "cell_type": "code",
   "execution_count": 62,
   "metadata": {},
   "outputs": [],
   "source": [
    "#### _______________ Function to map the above list _______________ #### \n",
    "def map_column(x):\n",
    "    for key in mapping:\n",
    "        if re.findall(key, x):\n",
    "            return mapping[key]\n",
    "    return \"altro\""
   ]
  },
  {
   "cell_type": "code",
   "execution_count": 63,
   "metadata": {},
   "outputs": [
    {
     "data": {
      "text/plain": [
       "altro                  59\n",
       "carsharing             26\n",
       "spesa supermercato     25\n",
       "amazon                 21\n",
       "farmacia               10\n",
       "ricarica telefono      10\n",
       "prelievo               10\n",
       "stipendio              10\n",
       "pranzo o cena fuori     9\n",
       "lezioni di inglese      8\n",
       "shopping                8\n",
       "bar                     7\n",
       "netflix                 6\n",
       "voli                    5\n",
       "hotel                   1\n",
       "Name: category, dtype: int64"
      ]
     },
     "execution_count": 63,
     "metadata": {},
     "output_type": "execute_result"
    }
   ],
   "source": [
    "#### _______________ Map and fill the category column _______________ #### \n",
    "dataset[\"category\"] = dataset[\"descrizione_operazione\"].map(lambda x: map_column(x))\n",
    "dataset[\"category\"].value_counts()"
   ]
  },
  {
   "cell_type": "markdown",
   "metadata": {},
   "source": [
    "### Write the final Dataframe obtained"
   ]
  },
  {
   "cell_type": "code",
   "execution_count": 64,
   "metadata": {},
   "outputs": [],
   "source": [
    "dataset.to_excel(\"dataset_finance.xlsx\", index = False)"
   ]
  },
  {
   "cell_type": "code",
   "execution_count": null,
   "metadata": {},
   "outputs": [],
   "source": []
  }
 ],
 "metadata": {
  "kernelspec": {
   "display_name": "Python 3.10.5 ('.venv_finance': venv)",
   "language": "python",
   "name": "python3"
  },
  "language_info": {
   "codemirror_mode": {
    "name": "ipython",
    "version": 3
   },
   "file_extension": ".py",
   "mimetype": "text/x-python",
   "name": "python",
   "nbconvert_exporter": "python",
   "pygments_lexer": "ipython3",
   "version": "3.10.5"
  },
  "orig_nbformat": 4,
  "vscode": {
   "interpreter": {
    "hash": "2f96e5be13827e7590d465d92ea4f3b0265b0c8b058afffe20bb3ac572a166ce"
   }
  }
 },
 "nbformat": 4,
 "nbformat_minor": 2
}
